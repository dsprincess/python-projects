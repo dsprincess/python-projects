{
 "cells": [
  {
   "cell_type": "markdown",
   "id": "fe86753f",
   "metadata": {},
   "source": [
    "# Task 2"
   ]
  },
  {
   "cell_type": "code",
   "execution_count": 1,
   "id": "1d44f262",
   "metadata": {},
   "outputs": [],
   "source": [
    "#biographical film or biopic is a film that dramatizes the life of a non-fictional or historically-based person or people\n",
    "import pandas as pd\n",
    "import numpy as np\n",
    "# Do not alter this line.\n",
    "biopics = pd.read_csv(\"C:/Users/Shai/Downloads/biopics.csv\", encoding='latin-1')"
   ]
  },
  {
   "cell_type": "code",
   "execution_count": 2,
   "id": "4d3ba6ef",
   "metadata": {},
   "outputs": [
    {
     "data": {
      "text/html": [
       "<div>\n",
       "<style scoped>\n",
       "    .dataframe tbody tr th:only-of-type {\n",
       "        vertical-align: middle;\n",
       "    }\n",
       "\n",
       "    .dataframe tbody tr th {\n",
       "        vertical-align: top;\n",
       "    }\n",
       "\n",
       "    .dataframe thead th {\n",
       "        text-align: right;\n",
       "    }\n",
       "</style>\n",
       "<table border=\"1\" class=\"dataframe\">\n",
       "  <thead>\n",
       "    <tr style=\"text-align: right;\">\n",
       "      <th></th>\n",
       "      <th>title</th>\n",
       "      <th>country</th>\n",
       "      <th>year_release</th>\n",
       "      <th>box_office</th>\n",
       "      <th>type_of_subject</th>\n",
       "      <th>lead_actor_actress</th>\n",
       "    </tr>\n",
       "  </thead>\n",
       "  <tbody>\n",
       "    <tr>\n",
       "      <th>0</th>\n",
       "      <td>10 Rillington Place</td>\n",
       "      <td>UK</td>\n",
       "      <td>1971</td>\n",
       "      <td>NaN</td>\n",
       "      <td>Criminal</td>\n",
       "      <td>Richard Attenborough</td>\n",
       "    </tr>\n",
       "    <tr>\n",
       "      <th>1</th>\n",
       "      <td>12 Years a Slave</td>\n",
       "      <td>US/UK</td>\n",
       "      <td>2013</td>\n",
       "      <td>56700000.0</td>\n",
       "      <td>Other</td>\n",
       "      <td>Chiwetel Ejiofor</td>\n",
       "    </tr>\n",
       "    <tr>\n",
       "      <th>2</th>\n",
       "      <td>127 Hours</td>\n",
       "      <td>US/UK</td>\n",
       "      <td>2010</td>\n",
       "      <td>18300000.0</td>\n",
       "      <td>Athlete</td>\n",
       "      <td>James Franco</td>\n",
       "    </tr>\n",
       "    <tr>\n",
       "      <th>3</th>\n",
       "      <td>1987</td>\n",
       "      <td>Canada</td>\n",
       "      <td>2014</td>\n",
       "      <td>NaN</td>\n",
       "      <td>Other</td>\n",
       "      <td>Jean-Carl Boucher</td>\n",
       "    </tr>\n",
       "    <tr>\n",
       "      <th>4</th>\n",
       "      <td>20 Dates</td>\n",
       "      <td>US</td>\n",
       "      <td>1998</td>\n",
       "      <td>537000.0</td>\n",
       "      <td>Other</td>\n",
       "      <td>Myles Berkowitz</td>\n",
       "    </tr>\n",
       "  </tbody>\n",
       "</table>\n",
       "</div>"
      ],
      "text/plain": [
       "                 title country  year_release  box_office type_of_subject  \\\n",
       "0  10 Rillington Place      UK          1971         NaN        Criminal   \n",
       "1     12 Years a Slave   US/UK          2013  56700000.0           Other   \n",
       "2            127 Hours   US/UK          2010  18300000.0         Athlete   \n",
       "3                 1987  Canada          2014         NaN           Other   \n",
       "4             20 Dates      US          1998    537000.0           Other   \n",
       "\n",
       "     lead_actor_actress  \n",
       "0  Richard Attenborough  \n",
       "1      Chiwetel Ejiofor  \n",
       "2          James Franco  \n",
       "3     Jean-Carl Boucher  \n",
       "4       Myles Berkowitz  "
      ]
     },
     "execution_count": 2,
     "metadata": {},
     "output_type": "execute_result"
    }
   ],
   "source": [
    "biopics.head()"
   ]
  },
  {
   "cell_type": "code",
   "execution_count": 3,
   "id": "33951105",
   "metadata": {},
   "outputs": [
    {
     "data": {
      "text/html": [
       "<div>\n",
       "<style scoped>\n",
       "    .dataframe tbody tr th:only-of-type {\n",
       "        vertical-align: middle;\n",
       "    }\n",
       "\n",
       "    .dataframe tbody tr th {\n",
       "        vertical-align: top;\n",
       "    }\n",
       "\n",
       "    .dataframe thead th {\n",
       "        text-align: right;\n",
       "    }\n",
       "</style>\n",
       "<table border=\"1\" class=\"dataframe\">\n",
       "  <thead>\n",
       "    <tr style=\"text-align: right;\">\n",
       "      <th></th>\n",
       "      <th>year_release</th>\n",
       "      <th>box_office</th>\n",
       "    </tr>\n",
       "  </thead>\n",
       "  <tbody>\n",
       "    <tr>\n",
       "      <th>count</th>\n",
       "      <td>763.000000</td>\n",
       "      <td>4.390000e+02</td>\n",
       "    </tr>\n",
       "    <tr>\n",
       "      <th>mean</th>\n",
       "      <td>1986.971166</td>\n",
       "      <td>2.295256e+07</td>\n",
       "    </tr>\n",
       "    <tr>\n",
       "      <th>std</th>\n",
       "      <td>24.020315</td>\n",
       "      <td>3.824200e+07</td>\n",
       "    </tr>\n",
       "    <tr>\n",
       "      <th>min</th>\n",
       "      <td>1915.000000</td>\n",
       "      <td>3.150000e+03</td>\n",
       "    </tr>\n",
       "    <tr>\n",
       "      <th>25%</th>\n",
       "      <td>1969.000000</td>\n",
       "      <td>1.160000e+06</td>\n",
       "    </tr>\n",
       "    <tr>\n",
       "      <th>50%</th>\n",
       "      <td>1995.000000</td>\n",
       "      <td>6.140000e+06</td>\n",
       "    </tr>\n",
       "    <tr>\n",
       "      <th>75%</th>\n",
       "      <td>2007.000000</td>\n",
       "      <td>3.050000e+07</td>\n",
       "    </tr>\n",
       "    <tr>\n",
       "      <th>max</th>\n",
       "      <td>2014.000000</td>\n",
       "      <td>3.500000e+08</td>\n",
       "    </tr>\n",
       "  </tbody>\n",
       "</table>\n",
       "</div>"
      ],
      "text/plain": [
       "       year_release    box_office\n",
       "count    763.000000  4.390000e+02\n",
       "mean    1986.971166  2.295256e+07\n",
       "std       24.020315  3.824200e+07\n",
       "min     1915.000000  3.150000e+03\n",
       "25%     1969.000000  1.160000e+06\n",
       "50%     1995.000000  6.140000e+06\n",
       "75%     2007.000000  3.050000e+07\n",
       "max     2014.000000  3.500000e+08"
      ]
     },
     "execution_count": 3,
     "metadata": {},
     "output_type": "execute_result"
    }
   ],
   "source": [
    "biopics.describe()"
   ]
  },
  {
   "cell_type": "code",
   "execution_count": 4,
   "id": "b8eababe",
   "metadata": {},
   "outputs": [
    {
     "name": "stdout",
     "output_type": "stream",
     "text": [
      "<class 'pandas.core.frame.DataFrame'>\n",
      "RangeIndex: 763 entries, 0 to 762\n",
      "Data columns (total 6 columns):\n",
      " #   Column              Non-Null Count  Dtype  \n",
      "---  ------              --------------  -----  \n",
      " 0   title               763 non-null    object \n",
      " 1   country             763 non-null    object \n",
      " 2   year_release        763 non-null    int64  \n",
      " 3   box_office          439 non-null    float64\n",
      " 4   type_of_subject     763 non-null    object \n",
      " 5   lead_actor_actress  756 non-null    object \n",
      "dtypes: float64(1), int64(1), object(4)\n",
      "memory usage: 35.9+ KB\n"
     ]
    }
   ],
   "source": [
    "biopics.info()"
   ]
  },
  {
   "cell_type": "code",
   "execution_count": null,
   "id": "1252d0dc",
   "metadata": {},
   "outputs": [],
   "source": []
  },
  {
   "cell_type": "code",
   "execution_count": null,
   "id": "e43245ee",
   "metadata": {},
   "outputs": [],
   "source": []
  },
  {
   "cell_type": "code",
   "execution_count": 5,
   "id": "81800177",
   "metadata": {},
   "outputs": [
    {
     "data": {
      "text/html": [
       "<div>\n",
       "<style scoped>\n",
       "    .dataframe tbody tr th:only-of-type {\n",
       "        vertical-align: middle;\n",
       "    }\n",
       "\n",
       "    .dataframe tbody tr th {\n",
       "        vertical-align: top;\n",
       "    }\n",
       "\n",
       "    .dataframe thead th {\n",
       "        text-align: right;\n",
       "    }\n",
       "</style>\n",
       "<table border=\"1\" class=\"dataframe\">\n",
       "  <thead>\n",
       "    <tr style=\"text-align: right;\">\n",
       "      <th></th>\n",
       "      <th>title</th>\n",
       "      <th>country</th>\n",
       "      <th>year_release</th>\n",
       "      <th>box_office</th>\n",
       "      <th>type_of_subject</th>\n",
       "      <th>lead_actor_actress</th>\n",
       "    </tr>\n",
       "  </thead>\n",
       "  <tbody>\n",
       "    <tr>\n",
       "      <th>0</th>\n",
       "      <td>10 Rillington Place</td>\n",
       "      <td>UK</td>\n",
       "      <td>1971</td>\n",
       "      <td>NaN</td>\n",
       "      <td>Criminal</td>\n",
       "      <td>Richard Attenborough</td>\n",
       "    </tr>\n",
       "    <tr>\n",
       "      <th>1</th>\n",
       "      <td>12 Years a Slave</td>\n",
       "      <td>US/UK</td>\n",
       "      <td>2013</td>\n",
       "      <td>56700000.0</td>\n",
       "      <td>Other</td>\n",
       "      <td>Chiwetel Ejiofor</td>\n",
       "    </tr>\n",
       "    <tr>\n",
       "      <th>2</th>\n",
       "      <td>127 Hours</td>\n",
       "      <td>US/UK</td>\n",
       "      <td>2010</td>\n",
       "      <td>18300000.0</td>\n",
       "      <td>Athlete</td>\n",
       "      <td>James Franco</td>\n",
       "    </tr>\n",
       "    <tr>\n",
       "      <th>3</th>\n",
       "      <td>1987</td>\n",
       "      <td>Canada</td>\n",
       "      <td>2014</td>\n",
       "      <td>NaN</td>\n",
       "      <td>Other</td>\n",
       "      <td>Jean-Carl Boucher</td>\n",
       "    </tr>\n",
       "    <tr>\n",
       "      <th>4</th>\n",
       "      <td>20 Dates</td>\n",
       "      <td>US</td>\n",
       "      <td>1998</td>\n",
       "      <td>537000.0</td>\n",
       "      <td>Other</td>\n",
       "      <td>Myles Berkowitz</td>\n",
       "    </tr>\n",
       "  </tbody>\n",
       "</table>\n",
       "</div>"
      ],
      "text/plain": [
       "                 title country  year_release  box_office type_of_subject  \\\n",
       "0  10 Rillington Place      UK          1971         NaN        Criminal   \n",
       "1     12 Years a Slave   US/UK          2013  56700000.0           Other   \n",
       "2            127 Hours   US/UK          2010  18300000.0         Athlete   \n",
       "3                 1987  Canada          2014         NaN           Other   \n",
       "4             20 Dates      US          1998    537000.0           Other   \n",
       "\n",
       "     lead_actor_actress  \n",
       "0  Richard Attenborough  \n",
       "1      Chiwetel Ejiofor  \n",
       "2          James Franco  \n",
       "3     Jean-Carl Boucher  \n",
       "4       Myles Berkowitz  "
      ]
     },
     "execution_count": 5,
     "metadata": {},
     "output_type": "execute_result"
    }
   ],
   "source": [
    "biopics.head()"
   ]
  },
  {
   "cell_type": "code",
   "execution_count": 13,
   "id": "d566f7ee",
   "metadata": {},
   "outputs": [],
   "source": [
    "biopics = biopics.drop_duplicates()\n",
    "biopics.rename(columns={'box_office': 'earnings'}, inplace=True)\n",
    "biopics['earnings'] = pd.to_numeric(biopics['earnings'], errors='coerce')\n",
    "biopics.dropna(subset=['earnings'], inplace=True)\n",
    "biopics['earnings'].dropna(inplace=True)\n",
    "biopics = biopics[biopics[\"year_release\"] >= 1990]\n",
    "biopics['type_of_subject'] = biopics['type_of_subject'].astype('category')\n",
    "biopics['country'] = biopics['country'].astype('category')\n",
    "biopics['lead_actor_actress_known'] = biopics['lead_actor_actress'].notna()\n",
    "biopics = biopics[[\"title\", \"year_release\", \"earnings\", \"country\", \"type_of_subject\", \"lead_actor_actress\", \"lead_actor_actress_known\"]]\n",
    "#biopics['earnings'] = biopics['earnings'] / 1000000\n",
    "biopics = biopics.sort_values(by='earnings', ascending=False)"
   ]
  },
  {
   "cell_type": "code",
   "execution_count": 14,
   "id": "1165707d",
   "metadata": {},
   "outputs": [
    {
     "data": {
      "text/html": [
       "<div>\n",
       "<style scoped>\n",
       "    .dataframe tbody tr th:only-of-type {\n",
       "        vertical-align: middle;\n",
       "    }\n",
       "\n",
       "    .dataframe tbody tr th {\n",
       "        vertical-align: top;\n",
       "    }\n",
       "\n",
       "    .dataframe thead th {\n",
       "        text-align: right;\n",
       "    }\n",
       "</style>\n",
       "<table border=\"1\" class=\"dataframe\">\n",
       "  <thead>\n",
       "    <tr style=\"text-align: right;\">\n",
       "      <th></th>\n",
       "      <th>title</th>\n",
       "      <th>year_release</th>\n",
       "      <th>earnings</th>\n",
       "      <th>country</th>\n",
       "      <th>type_of_subject</th>\n",
       "      <th>lead_actor_actress</th>\n",
       "      <th>lead_actor_actress_known</th>\n",
       "    </tr>\n",
       "  </thead>\n",
       "  <tbody>\n",
       "    <tr>\n",
       "      <th>38</th>\n",
       "      <td>American Sniper</td>\n",
       "      <td>2014</td>\n",
       "      <td>350000000.0</td>\n",
       "      <td>US</td>\n",
       "      <td>Military</td>\n",
       "      <td>Bradley Cooper</td>\n",
       "      <td>True</td>\n",
       "    </tr>\n",
       "    <tr>\n",
       "      <th>547</th>\n",
       "      <td>The Blind Side</td>\n",
       "      <td>2009</td>\n",
       "      <td>256000000.0</td>\n",
       "      <td>US</td>\n",
       "      <td>Athlete</td>\n",
       "      <td>Quinton Aaron</td>\n",
       "      <td>True</td>\n",
       "    </tr>\n",
       "    <tr>\n",
       "      <th>334</th>\n",
       "      <td>Lincoln</td>\n",
       "      <td>2012</td>\n",
       "      <td>182000000.0</td>\n",
       "      <td>US</td>\n",
       "      <td>World leader</td>\n",
       "      <td>Daniel Day-Lewis</td>\n",
       "      <td>True</td>\n",
       "    </tr>\n",
       "    <tr>\n",
       "      <th>11</th>\n",
       "      <td>A Beautiful Mind</td>\n",
       "      <td>2001</td>\n",
       "      <td>171000000.0</td>\n",
       "      <td>US</td>\n",
       "      <td>Academic</td>\n",
       "      <td>Russell Crowe</td>\n",
       "      <td>True</td>\n",
       "    </tr>\n",
       "    <tr>\n",
       "      <th>124</th>\n",
       "      <td>Catch Me If You Can</td>\n",
       "      <td>2002</td>\n",
       "      <td>164000000.0</td>\n",
       "      <td>US/Canada</td>\n",
       "      <td>Criminal</td>\n",
       "      <td>Leonardo DiCaprio</td>\n",
       "      <td>True</td>\n",
       "    </tr>\n",
       "  </tbody>\n",
       "</table>\n",
       "</div>"
      ],
      "text/plain": [
       "                   title  year_release     earnings    country  \\\n",
       "38       American Sniper          2014  350000000.0         US   \n",
       "547       The Blind Side          2009  256000000.0         US   \n",
       "334              Lincoln          2012  182000000.0         US   \n",
       "11      A Beautiful Mind          2001  171000000.0         US   \n",
       "124  Catch Me If You Can          2002  164000000.0  US/Canada   \n",
       "\n",
       "    type_of_subject lead_actor_actress  lead_actor_actress_known  \n",
       "38         Military     Bradley Cooper                      True  \n",
       "547         Athlete      Quinton Aaron                      True  \n",
       "334    World leader   Daniel Day-Lewis                      True  \n",
       "11         Academic      Russell Crowe                      True  \n",
       "124        Criminal  Leonardo DiCaprio                      True  "
      ]
     },
     "execution_count": 14,
     "metadata": {},
     "output_type": "execute_result"
    }
   ],
   "source": [
    "biopics.head()"
   ]
  },
  {
   "cell_type": "code",
   "execution_count": 15,
   "id": "aa42916a",
   "metadata": {},
   "outputs": [
    {
     "data": {
      "text/html": [
       "<div>\n",
       "<style scoped>\n",
       "    .dataframe tbody tr th:only-of-type {\n",
       "        vertical-align: middle;\n",
       "    }\n",
       "\n",
       "    .dataframe tbody tr th {\n",
       "        vertical-align: top;\n",
       "    }\n",
       "\n",
       "    .dataframe thead th {\n",
       "        text-align: right;\n",
       "    }\n",
       "</style>\n",
       "<table border=\"1\" class=\"dataframe\">\n",
       "  <thead>\n",
       "    <tr style=\"text-align: right;\">\n",
       "      <th></th>\n",
       "      <th>title</th>\n",
       "      <th>year_release</th>\n",
       "      <th>earnings</th>\n",
       "      <th>country</th>\n",
       "      <th>type_of_subject</th>\n",
       "      <th>lead_actor_actress</th>\n",
       "      <th>lead_actor_actress_known</th>\n",
       "    </tr>\n",
       "  </thead>\n",
       "  <tbody>\n",
       "  </tbody>\n",
       "</table>\n",
       "</div>"
      ],
      "text/plain": [
       "Empty DataFrame\n",
       "Columns: [title, year_release, earnings, country, type_of_subject, lead_actor_actress, lead_actor_actress_known]\n",
       "Index: []"
      ]
     },
     "execution_count": 15,
     "metadata": {},
     "output_type": "execute_result"
    }
   ],
   "source": [
    "biopics_nan= biopics[biopics[\"earnings\"].isna()]\n",
    "biopics_nan"
   ]
  },
  {
   "cell_type": "code",
   "execution_count": 16,
   "id": "80cccef9",
   "metadata": {},
   "outputs": [
    {
     "data": {
      "text/plain": [
       "dtype('float64')"
      ]
     },
     "execution_count": 16,
     "metadata": {},
     "output_type": "execute_result"
    }
   ],
   "source": [
    "biopics['earnings'].dtype"
   ]
  },
  {
   "cell_type": "code",
   "execution_count": 17,
   "id": "9ebe4511",
   "metadata": {},
   "outputs": [
    {
     "data": {
      "text/plain": [
       "409    12300.0\n",
       "624    10400.0\n",
       "183     5710.0\n",
       "314     5570.0\n",
       "485     3270.0\n",
       "Name: earnings, dtype: float64"
      ]
     },
     "execution_count": 17,
     "metadata": {},
     "output_type": "execute_result"
    }
   ],
   "source": [
    "biopics['earnings'].tail()"
   ]
  },
  {
   "cell_type": "code",
   "execution_count": 18,
   "id": "42245256",
   "metadata": {},
   "outputs": [
    {
     "data": {
      "text/plain": [
       "0"
      ]
     },
     "execution_count": 18,
     "metadata": {},
     "output_type": "execute_result"
    }
   ],
   "source": [
    "biopics[\"earnings\"].isna().sum()"
   ]
  },
  {
   "cell_type": "code",
   "execution_count": 12,
   "id": "feeca99f",
   "metadata": {},
   "outputs": [
    {
     "data": {
      "text/plain": [
       "array([3.50e+08, 2.56e+08, 1.82e+08, 1.71e+08, 1.64e+08, 1.63e+08,\n",
       "       1.39e+08, 1.35e+08, 1.30e+08, 1.26e+08, 1.25e+08, 1.20e+08,\n",
       "       1.17e+08, 1.16e+08, 1.07e+08, 1.03e+08, 1.01e+08, 9.70e+07,\n",
       "       9.69e+07, 9.61e+07, 9.50e+07, 9.41e+07, 9.36e+07, 9.11e+07,\n",
       "       8.49e+07, 8.33e+07, 8.12e+07, 7.56e+07, 7.53e+07, 6.66e+07,\n",
       "       6.50e+07, 6.44e+07, 6.16e+07, 5.97e+07, 5.82e+07, 5.78e+07,\n",
       "       5.67e+07, 5.64e+07, 5.29e+07, 5.23e+07, 5.21e+07, 5.17e+07,\n",
       "       5.07e+07, 5.00e+07, 4.91e+07, 4.88e+07, 4.82e+07, 4.70e+07,\n",
       "       4.68e+07, 4.39e+07, 4.26e+07, 4.24e+07, 4.20e+07, 4.12e+07,\n",
       "       3.91e+07, 3.79e+07, 3.77e+07, 3.75e+07, 3.73e+07, 3.68e+07,\n",
       "       3.66e+07, 3.64e+07, 3.59e+07, 3.54e+07, 3.52e+07, 3.51e+07,\n",
       "       3.46e+07, 3.45e+07, 3.43e+07, 3.30e+07, 3.25e+07, 3.18e+07,\n",
       "       3.17e+07, 3.16e+07, 3.10e+07, 3.05e+07, 3.02e+07, 3.00e+07,\n",
       "       2.98e+07, 2.90e+07, 2.89e+07, 2.87e+07, 2.73e+07, 2.69e+07,\n",
       "       2.68e+07, 2.58e+07, 2.55e+07, 2.51e+07, 2.50e+07, 2.43e+07,\n",
       "       2.28e+07, 2.12e+07, 2.11e+07, 2.02e+07, 2.01e+07, 1.96e+07,\n",
       "       1.87e+07, 1.84e+07, 1.83e+07, 1.76e+07, 1.75e+07, 1.68e+07,\n",
       "       1.63e+07, 1.61e+07, 1.60e+07, 1.54e+07, 1.52e+07, 1.46e+07,\n",
       "       1.45e+07, 1.44e+07, 1.42e+07, 1.38e+07, 1.36e+07, 1.34e+07,\n",
       "       1.33e+07, 1.31e+07, 1.27e+07, 1.24e+07, 1.21e+07, 1.16e+07,\n",
       "       1.15e+07, 1.10e+07, 1.03e+07, 1.02e+07, 1.01e+07, 9.59e+06,\n",
       "       9.53e+06, 9.49e+06, 9.26e+06, 9.22e+06, 9.17e+06, 8.60e+06,\n",
       "       8.32e+06, 8.25e+06, 8.13e+06, 7.56e+06, 7.27e+06, 7.06e+06,\n",
       "       6.78e+06, 6.62e+06, 6.39e+06, 6.37e+06, 6.20e+06, 6.14e+06,\n",
       "       6.00e+06, 5.99e+06, 5.89e+06, 5.88e+06, 5.86e+06, 5.70e+06,\n",
       "       5.67e+06, 5.55e+06, 5.53e+06, 5.48e+06, 5.13e+06, 5.00e+06,\n",
       "       4.90e+06, 4.87e+06, 4.72e+06, 4.60e+06, 4.53e+06, 4.47e+06,\n",
       "       4.44e+06, 4.29e+06, 4.23e+06, 4.22e+06, 4.10e+06, 4.08e+06,\n",
       "       4.07e+06, 4.00e+06, 3.96e+06, 3.90e+06, 3.57e+06, 3.34e+06,\n",
       "       3.25e+06, 3.24e+06, 3.09e+06, 2.98e+06, 2.96e+06, 2.95e+06,\n",
       "       2.69e+06, 2.48e+06, 2.47e+06, 2.45e+06, 2.42e+06, 2.39e+06,\n",
       "       2.23e+06, 2.17e+06, 2.16e+06, 2.14e+06, 2.06e+06, 2.04e+06,\n",
       "       1.99e+06, 1.94e+06, 1.81e+06, 1.73e+06, 1.72e+06, 1.70e+06,\n",
       "       1.65e+06, 1.57e+06, 1.45e+06, 1.42e+06, 1.41e+06, 1.30e+06,\n",
       "       1.23e+06, 1.21e+06, 1.20e+06, 1.19e+06, 1.17e+06, 1.15e+06,\n",
       "       1.13e+06, 1.12e+06, 1.10e+06, 1.07e+06, 1.04e+06, 1.03e+06,\n",
       "       1.01e+06, 1.00e+06, 8.72e+05, 7.77e+05, 6.98e+05, 6.93e+05,\n",
       "       6.71e+05, 6.26e+05, 6.17e+05, 6.16e+05, 5.52e+05, 5.39e+05,\n",
       "       5.38e+05, 5.37e+05, 5.32e+05, 4.80e+05, 4.55e+05, 4.50e+05,\n",
       "       4.46e+05, 4.00e+05, 3.65e+05, 3.64e+05, 3.55e+05, 3.53e+05,\n",
       "       3.43e+05, 3.41e+05, 3.40e+05, 3.32e+05, 3.31e+05, 3.23e+05,\n",
       "       3.15e+05, 2.97e+05, 2.75e+05, 2.70e+05, 2.26e+05, 2.25e+05,\n",
       "       2.21e+05, 1.95e+05, 1.54e+05, 1.53e+05, 1.46e+05, 1.44e+05,\n",
       "       1.37e+05, 1.13e+05, 1.05e+05, 9.88e+04, 8.97e+04, 8.67e+04,\n",
       "       7.61e+04, 7.49e+04, 6.57e+04, 5.88e+04, 4.95e+04, 4.72e+04,\n",
       "       4.45e+04, 4.43e+04, 3.66e+04, 2.86e+04, 2.28e+04, 2.18e+04,\n",
       "       1.93e+04, 1.91e+04, 1.68e+04, 1.28e+04, 1.23e+04, 1.04e+04,\n",
       "       5.71e+03, 5.57e+03, 3.27e+03,      nan])"
      ]
     },
     "execution_count": 12,
     "metadata": {},
     "output_type": "execute_result"
    }
   ],
   "source": [
    "biopics['earnings'].unique()"
   ]
  },
  {
   "cell_type": "markdown",
   "id": "99f82c90",
   "metadata": {},
   "source": [
    "Took note of my 2 mistakes .\n",
    "\n",
    "#1 NaN values drop (The first is the correct one)\n",
    "biopics.dropna(subset=['earnings'], inplace=True):\n",
    "\n",
    "This code drops the rows with NaN values from the entire \"biopics\" dataframe.\n",
    "The subset=['earnings'] parameter specifies that only the \"earnings\" column should be considered when dropping the NaN values.\n",
    "The inplace=True parameter ensures that the changes are applied directly to the \"biopics\" dataframe.\n",
    "\n",
    "biopics['earnings'].dropna(inplace=True):\n",
    "\n",
    "This code drops the NaN values from the \"earnings\" column itself, without modifying the rest of the dataframe.\n",
    "The inplace=True parameter ensures that the changes are applied directly to the \"earnings\" column within the \"biopics\" dataframe."
   ]
  },
  {
   "cell_type": "markdown",
   "id": "b280be74",
   "metadata": {},
   "source": [
    "#2 biopics['lead_actor_actress_known'] = biopics['lead_actor_actress'].where(biopics['lead_actor_actress'].notna(), False)\n",
    "the column returns the actual name and then returns only False if its na(), should be\n",
    "\n",
    "biopics['lead_actor_actress_known'] = biopics['lead_actor_actress'].notna()"
   ]
  },
  {
   "cell_type": "code",
   "execution_count": null,
   "id": "a2bc2733",
   "metadata": {},
   "outputs": [],
   "source": []
  },
  {
   "cell_type": "code",
   "execution_count": null,
   "id": "aa6f4a4c",
   "metadata": {},
   "outputs": [],
   "source": []
  },
  {
   "cell_type": "code",
   "execution_count": null,
   "id": "630c783f",
   "metadata": {},
   "outputs": [],
   "source": []
  },
  {
   "cell_type": "code",
   "execution_count": null,
   "id": "d3070d89",
   "metadata": {},
   "outputs": [],
   "source": []
  }
 ],
 "metadata": {
  "kernelspec": {
   "display_name": "Python 3 (ipykernel)",
   "language": "python",
   "name": "python3"
  },
  "language_info": {
   "codemirror_mode": {
    "name": "ipython",
    "version": 3
   },
   "file_extension": ".py",
   "mimetype": "text/x-python",
   "name": "python",
   "nbconvert_exporter": "python",
   "pygments_lexer": "ipython3",
   "version": "3.9.13"
  }
 },
 "nbformat": 4,
 "nbformat_minor": 5
}
