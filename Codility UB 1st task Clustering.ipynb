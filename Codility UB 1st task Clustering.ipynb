{
 "cells": [
  {
   "cell_type": "markdown",
   "id": "9ca941cf",
   "metadata": {},
   "source": [
    "# Practice question"
   ]
  },
  {
   "cell_type": "code",
   "execution_count": 1,
   "id": "25c93947",
   "metadata": {},
   "outputs": [],
   "source": [
    "# you can write to stdout for debugging purposes, e.g.\n",
    "# print(\"this is a debug message\")\n",
    "\n",
    "def solution(A):\n",
    "    # Implement your solution here\n",
    "    seen = {num for num in A if num > 0}\n",
    "    smallest_positive = 1\n",
    "    while smallest_positive in seen:\n",
    "        smallest_positive += 1\n",
    "    return smallest_positive"
   ]
  },
  {
   "cell_type": "markdown",
   "id": "145d3300",
   "metadata": {},
   "source": [
    "# Task 1"
   ]
  },
  {
   "cell_type": "markdown",
   "id": "1bdf8b0d",
   "metadata": {},
   "source": [
    "KMeans Clustering and PCA Model task\n",
    "Vectors - Doc2vec is an NLP tool for representing documents as a vector and is a generalizing of the word2vec method. In order to understand doc2vec, it is advisable to understand word2vec approach."
   ]
  },
  {
   "cell_type": "code",
   "execution_count": 33,
   "id": "4f9b5327",
   "metadata": {},
   "outputs": [],
   "source": [
    "from sklearn.cluster import KMeans\n",
    "from sklearn.decomposition import PCA\n",
    "import sklearn.metrics.cluster as metrics\n",
    "from sklearn.metrics import completeness_score\n",
    "from sklearn.metrics import v_measure_score\n",
    "import pandas as pd\n",
    "import pickle\n",
    "\n",
    "# You can access the `data` folder by uncommenting the following command\n",
    "data = pickle.load(open(\"C:/Users/Shai/Downloads/data/documents.p\", \"rb\"))\n",
    "id_list = list(data['id'])\n",
    "vectors_list = list(data['vectors'])\n",
    "\n",
    "# Create the DataFrame\n",
    "df = pd.DataFrame({'id': id_list, 'group': data['group'], 'vectors': vectors_list})"
   ]
  },
  {
   "cell_type": "code",
   "execution_count": 34,
   "id": "6d216747",
   "metadata": {},
   "outputs": [
    {
     "data": {
      "text/plain": [
       "dict_keys(['id', 'group', 'vectors'])"
      ]
     },
     "execution_count": 34,
     "metadata": {},
     "output_type": "execute_result"
    }
   ],
   "source": [
    "data.keys()"
   ]
  },
  {
   "cell_type": "markdown",
   "id": "b7921d95",
   "metadata": {},
   "source": [
    "The data is a dictionary with list of list(vectors column). I converted first the dictionary to dataframe then broken down the vectors column to several columns.\n",
    "Disclaimer: I'm about to search more about document vectors and currently not sure about creating several columns  if it is correct. However, since the problem ask for dimension reduction I guess my steps are correct."
   ]
  },
  {
   "cell_type": "code",
   "execution_count": 44,
   "id": "ac79e4e5",
   "metadata": {},
   "outputs": [
    {
     "data": {
      "text/plain": [
       "array([ 8.44363589e-03,  3.56870353e-01,  3.19745503e-02,  6.07463084e-02,\n",
       "        1.07652056e+00,  5.24650693e-01,  1.37139678e-01,  2.12919906e-01,\n",
       "       -6.02914631e-01,  6.61217391e-01, -2.93063879e-01,  1.39732748e-01,\n",
       "        1.07560587e+00, -3.21185589e-01, -4.72967058e-01, -8.43851686e-01,\n",
       "       -4.94009703e-02, -3.14426839e-01, -4.97963607e-01,  5.47657013e-01,\n",
       "        1.98529139e-01,  1.33056611e-01,  7.39319175e-02,  6.49731815e-01,\n",
       "       -1.93746522e-01,  8.91574193e-03,  4.12744015e-01,  3.69403660e-02,\n",
       "       -1.06031454e+00, -1.45086989e-01, -3.20170850e-01, -1.45254612e-01,\n",
       "        2.34680057e-01, -2.23848686e-01,  9.01854336e-02, -4.52330470e-01,\n",
       "        5.75464725e-01, -6.32750627e-04, -5.26223004e-01,  4.37901884e-01,\n",
       "        1.25634778e+00, -7.87343264e-01, -6.07092798e-01,  1.29482615e+00,\n",
       "       -5.86616337e-01,  3.41114163e-01, -2.39783272e-01,  6.78319931e-01,\n",
       "        1.75758582e-02,  8.46633852e-01,  1.38330996e-01, -2.33790413e-01,\n",
       "       -5.16649246e-01, -3.43282253e-01, -2.20674872e-02, -1.19930141e-01,\n",
       "        1.18842885e-01, -1.52012244e-01,  5.49455762e-01, -7.12732375e-01,\n",
       "        2.86902249e-01, -7.62326658e-01, -1.10940225e-01,  3.64359826e-01,\n",
       "       -1.94427278e-02,  2.60311723e-01,  1.39404309e+00,  2.18294248e-01,\n",
       "       -1.84525192e-01,  4.82690521e-02,  3.74777168e-01,  2.71168053e-01,\n",
       "       -5.87259680e-02, -6.30666316e-02,  4.08987813e-02,  2.05927016e-03,\n",
       "       -6.68510571e-02, -5.66804111e-02,  3.32741678e-01, -3.20050210e-01,\n",
       "       -8.46378356e-02, -9.17044163e-01,  1.03035204e-01,  1.08811244e-01,\n",
       "       -2.54563000e-02,  2.29819804e-01, -8.60654831e-01,  4.22748536e-01,\n",
       "        3.81467007e-02,  4.40510631e-01, -2.38432691e-01, -6.26468360e-01,\n",
       "       -3.18727523e-01,  3.46056432e-01,  4.25970644e-01, -3.51921022e-02,\n",
       "       -5.17135620e-01, -6.77093327e-01,  1.61009297e-01, -8.22458148e-01],\n",
       "      dtype=float32)"
      ]
     },
     "execution_count": 44,
     "metadata": {},
     "output_type": "execute_result"
    }
   ],
   "source": [
    "data[\"vectors\"][5]"
   ]
  },
  {
   "cell_type": "code",
   "execution_count": 47,
   "id": "bd583774",
   "metadata": {},
   "outputs": [
    {
     "name": "stderr",
     "output_type": "stream",
     "text": [
      "C:\\Users\\Shai\\AppData\\Local\\Temp\\ipykernel_12064\\2385554970.py:5: PerformanceWarning: DataFrame is highly fragmented.  This is usually the result of calling `frame.insert` many times, which has poor performance.  Consider joining all columns at once using pd.concat(axis=1) instead. To get a de-fragmented frame, use `newframe = frame.copy()`\n",
      "  df[f'vector {i}'] = [vectors[i - 1] if i <= len(vectors) else '' for vectors in df['vectors']]\n",
      "C:\\Users\\Shai\\AppData\\Local\\Temp\\ipykernel_12064\\2385554970.py:5: PerformanceWarning: DataFrame is highly fragmented.  This is usually the result of calling `frame.insert` many times, which has poor performance.  Consider joining all columns at once using pd.concat(axis=1) instead. To get a de-fragmented frame, use `newframe = frame.copy()`\n",
      "  df[f'vector {i}'] = [vectors[i - 1] if i <= len(vectors) else '' for vectors in df['vectors']]\n"
     ]
    }
   ],
   "source": [
    "max_vectors = max(len(vectors) for vectors in df['vectors'])\n",
    "\n",
    "# Create separate columns for each vector\n",
    "for i in range(1, max_vectors + 1):\n",
    "    df[f'vector {i}'] = [vectors[i - 1] if i <= len(vectors) else '' for vectors in df['vectors']]\n",
    "\n",
    "# Drop the original 'vectors' column\n",
    "df.drop('vectors', axis=1, inplace=True)"
   ]
  },
  {
   "cell_type": "markdown",
   "id": "3b41f712",
   "metadata": {},
   "source": [
    "## Modeling"
   ]
  },
  {
   "cell_type": "code",
   "execution_count": 48,
   "id": "7fe1a343",
   "metadata": {},
   "outputs": [],
   "source": [
    "#Kmeans clustering with PCA function\n",
    "def cluster_articles(data):\n",
    "    kmeans = KMeans(n_clusters=10, random_state=2, tol=0.05, max_iter=50)\n",
    "    kmeans.fit(df)\n",
    "    df['cluster'] = kmeans.labels_\n",
    "    predicted_labels = df['cluster']\n",
    "    true_labels = df[\"group\"]\n",
    "    nobs_100 = df['cluster'].value_counts().sort_index().tolist()\n",
    "    cs_100 = completeness_score(true_labels, predicted_labels)\n",
    "    v_100 = v_measure_score(true_labels, predicted_labels)\n",
    "    \n",
    "    # Apply PCA for dimensionality reduction\n",
    "    pca = PCA(n_components=10, random_state=2)\n",
    "    data_pca = pca.fit_transform(df)\n",
    "    \n",
    "    # Perform K-means clustering on reduced data\n",
    "    kmeans_pca = KMeans(n_clusters=10, random_state=2, tol=0.05, max_iter=50)\n",
    "    predicted_labels = kmeans_pca.fit_predict(data_pca)\n",
    "    \n",
    "    # Add cluster labels to DataFrame\n",
    "    df['cluster2'] = predicted_labels\n",
    "    predicted_labels = df['cluster2']\n",
    "    true_labels = df[\"group\"]\n",
    "    cs_10 = completeness_score(true_labels, predicted_labels)\n",
    "    v_10 = v_measure_score(true_labels, predicted_labels)\n",
    "    \n",
    "    pca_explained = pca.explained_variance_[0]\n",
    "    nobs_10 = df['cluster2'].value_counts().sort_index().tolist()\n",
    "    \n",
    "    result = {\n",
    "        'nobs_100': nobs_100,\n",
    "        'nobs_10': nobs_10,\n",
    "        'pca_explained': pca_explained,\n",
    "        'cs_100': cs_100,\n",
    "        'cs_10': cs_10,\n",
    "        'v_100': v_100,\n",
    "        'v_10': v_10\n",
    "    }\n",
    "    return result"
   ]
  },
  {
   "cell_type": "code",
   "execution_count": 49,
   "id": "874a2f0f",
   "metadata": {},
   "outputs": [
    {
     "data": {
      "text/plain": [
       "{'nobs_100': [1194, 1142, 1037, 1156, 1103, 1102, 1176, 1147, 1150, 1107],\n",
       " 'nobs_10': [1247, 1171, 991, 1186, 1054, 1094, 1218, 1124, 1150, 1079],\n",
       " 'pca_explained': 10668159.397740586,\n",
       " 'cs_100': 0.0014153548135582648,\n",
       " 'cs_10': 0.0012380477668426722,\n",
       " 'v_100': 0.0014686930220422756,\n",
       " 'v_10': 0.0012843108106337065}"
      ]
     },
     "execution_count": 49,
     "metadata": {},
     "output_type": "execute_result"
    }
   ],
   "source": [
    "#Below is the required answers for this task\n",
    "cluster_articles(data)"
   ]
  },
  {
   "cell_type": "code",
   "execution_count": 50,
   "id": "ada43178",
   "metadata": {},
   "outputs": [
    {
     "data": {
      "text/html": [
       "<div>\n",
       "<style scoped>\n",
       "    .dataframe tbody tr th:only-of-type {\n",
       "        vertical-align: middle;\n",
       "    }\n",
       "\n",
       "    .dataframe tbody tr th {\n",
       "        vertical-align: top;\n",
       "    }\n",
       "\n",
       "    .dataframe thead th {\n",
       "        text-align: right;\n",
       "    }\n",
       "</style>\n",
       "<table border=\"1\" class=\"dataframe\">\n",
       "  <thead>\n",
       "    <tr style=\"text-align: right;\">\n",
       "      <th></th>\n",
       "      <th>id</th>\n",
       "      <th>group</th>\n",
       "      <th>vector 1</th>\n",
       "      <th>vector 2</th>\n",
       "      <th>vector 3</th>\n",
       "      <th>vector 4</th>\n",
       "      <th>vector 5</th>\n",
       "      <th>vector 6</th>\n",
       "      <th>vector 7</th>\n",
       "      <th>vector 8</th>\n",
       "      <th>...</th>\n",
       "      <th>vector 93</th>\n",
       "      <th>vector 94</th>\n",
       "      <th>vector 95</th>\n",
       "      <th>vector 96</th>\n",
       "      <th>vector 97</th>\n",
       "      <th>vector 98</th>\n",
       "      <th>vector 99</th>\n",
       "      <th>vector 100</th>\n",
       "      <th>cluster</th>\n",
       "      <th>cluster2</th>\n",
       "    </tr>\n",
       "  </thead>\n",
       "  <tbody>\n",
       "    <tr>\n",
       "      <th>0</th>\n",
       "      <td>0</td>\n",
       "      <td>2</td>\n",
       "      <td>-0.782214</td>\n",
       "      <td>0.849030</td>\n",
       "      <td>-0.623739</td>\n",
       "      <td>1.137383</td>\n",
       "      <td>1.377935</td>\n",
       "      <td>-0.804760</td>\n",
       "      <td>-0.859999</td>\n",
       "      <td>-0.184784</td>\n",
       "      <td>...</td>\n",
       "      <td>-0.451734</td>\n",
       "      <td>-0.676049</td>\n",
       "      <td>0.664595</td>\n",
       "      <td>0.422658</td>\n",
       "      <td>-0.231945</td>\n",
       "      <td>-0.773502</td>\n",
       "      <td>-0.976207</td>\n",
       "      <td>-0.076483</td>\n",
       "      <td>7</td>\n",
       "      <td>7</td>\n",
       "    </tr>\n",
       "    <tr>\n",
       "      <th>1</th>\n",
       "      <td>1</td>\n",
       "      <td>3</td>\n",
       "      <td>-0.954391</td>\n",
       "      <td>0.222942</td>\n",
       "      <td>0.179708</td>\n",
       "      <td>0.712141</td>\n",
       "      <td>2.085975</td>\n",
       "      <td>-0.590047</td>\n",
       "      <td>-0.520407</td>\n",
       "      <td>-0.448135</td>\n",
       "      <td>...</td>\n",
       "      <td>-0.172711</td>\n",
       "      <td>-0.197387</td>\n",
       "      <td>-1.088920</td>\n",
       "      <td>0.801701</td>\n",
       "      <td>0.413218</td>\n",
       "      <td>-1.065198</td>\n",
       "      <td>-0.253530</td>\n",
       "      <td>0.246094</td>\n",
       "      <td>7</td>\n",
       "      <td>7</td>\n",
       "    </tr>\n",
       "    <tr>\n",
       "      <th>2</th>\n",
       "      <td>2</td>\n",
       "      <td>3</td>\n",
       "      <td>-0.200074</td>\n",
       "      <td>-0.542337</td>\n",
       "      <td>0.322167</td>\n",
       "      <td>0.431917</td>\n",
       "      <td>0.719309</td>\n",
       "      <td>-0.851156</td>\n",
       "      <td>0.118463</td>\n",
       "      <td>0.372747</td>\n",
       "      <td>...</td>\n",
       "      <td>-0.127078</td>\n",
       "      <td>0.242511</td>\n",
       "      <td>-0.414789</td>\n",
       "      <td>0.297782</td>\n",
       "      <td>0.688941</td>\n",
       "      <td>-0.279972</td>\n",
       "      <td>-0.487775</td>\n",
       "      <td>-0.406851</td>\n",
       "      <td>7</td>\n",
       "      <td>7</td>\n",
       "    </tr>\n",
       "    <tr>\n",
       "      <th>3</th>\n",
       "      <td>3</td>\n",
       "      <td>3</td>\n",
       "      <td>-0.826979</td>\n",
       "      <td>0.279338</td>\n",
       "      <td>0.290839</td>\n",
       "      <td>0.189559</td>\n",
       "      <td>1.306154</td>\n",
       "      <td>0.035058</td>\n",
       "      <td>-0.086363</td>\n",
       "      <td>-0.524517</td>\n",
       "      <td>...</td>\n",
       "      <td>-0.880408</td>\n",
       "      <td>0.527594</td>\n",
       "      <td>-0.154881</td>\n",
       "      <td>-0.218610</td>\n",
       "      <td>0.584203</td>\n",
       "      <td>0.491066</td>\n",
       "      <td>-0.536717</td>\n",
       "      <td>-0.258770</td>\n",
       "      <td>7</td>\n",
       "      <td>7</td>\n",
       "    </tr>\n",
       "    <tr>\n",
       "      <th>4</th>\n",
       "      <td>4</td>\n",
       "      <td>1</td>\n",
       "      <td>-0.581692</td>\n",
       "      <td>0.147377</td>\n",
       "      <td>-0.347732</td>\n",
       "      <td>0.761430</td>\n",
       "      <td>0.499861</td>\n",
       "      <td>0.668978</td>\n",
       "      <td>-0.039145</td>\n",
       "      <td>-1.212050</td>\n",
       "      <td>...</td>\n",
       "      <td>-0.859225</td>\n",
       "      <td>0.646671</td>\n",
       "      <td>0.300072</td>\n",
       "      <td>0.346214</td>\n",
       "      <td>-0.283779</td>\n",
       "      <td>-0.500032</td>\n",
       "      <td>0.444997</td>\n",
       "      <td>-0.560702</td>\n",
       "      <td>7</td>\n",
       "      <td>7</td>\n",
       "    </tr>\n",
       "  </tbody>\n",
       "</table>\n",
       "<p>5 rows × 104 columns</p>\n",
       "</div>"
      ],
      "text/plain": [
       "   id  group  vector 1  vector 2  vector 3  vector 4  vector 5  vector 6  \\\n",
       "0   0      2 -0.782214  0.849030 -0.623739  1.137383  1.377935 -0.804760   \n",
       "1   1      3 -0.954391  0.222942  0.179708  0.712141  2.085975 -0.590047   \n",
       "2   2      3 -0.200074 -0.542337  0.322167  0.431917  0.719309 -0.851156   \n",
       "3   3      3 -0.826979  0.279338  0.290839  0.189559  1.306154  0.035058   \n",
       "4   4      1 -0.581692  0.147377 -0.347732  0.761430  0.499861  0.668978   \n",
       "\n",
       "   vector 7  vector 8  ...  vector 93  vector 94  vector 95  vector 96  \\\n",
       "0 -0.859999 -0.184784  ...  -0.451734  -0.676049   0.664595   0.422658   \n",
       "1 -0.520407 -0.448135  ...  -0.172711  -0.197387  -1.088920   0.801701   \n",
       "2  0.118463  0.372747  ...  -0.127078   0.242511  -0.414789   0.297782   \n",
       "3 -0.086363 -0.524517  ...  -0.880408   0.527594  -0.154881  -0.218610   \n",
       "4 -0.039145 -1.212050  ...  -0.859225   0.646671   0.300072   0.346214   \n",
       "\n",
       "   vector 97  vector 98  vector 99  vector 100  cluster  cluster2  \n",
       "0  -0.231945  -0.773502  -0.976207   -0.076483        7         7  \n",
       "1   0.413218  -1.065198  -0.253530    0.246094        7         7  \n",
       "2   0.688941  -0.279972  -0.487775   -0.406851        7         7  \n",
       "3   0.584203   0.491066  -0.536717   -0.258770        7         7  \n",
       "4  -0.283779  -0.500032   0.444997   -0.560702        7         7  \n",
       "\n",
       "[5 rows x 104 columns]"
      ]
     },
     "execution_count": 50,
     "metadata": {},
     "output_type": "execute_result"
    }
   ],
   "source": [
    "df.head()"
   ]
  },
  {
   "cell_type": "code",
   "execution_count": 64,
   "id": "2dedb1fd",
   "metadata": {},
   "outputs": [
    {
     "data": {
      "image/png": "[encoded data removed]",
      "text/plain": [
       "<Figure size 640x480 with 1 Axes>"
      ]
     },
     "metadata": {},
     "output_type": "display_data"
    }
   ],
   "source": [
    "import seaborn as sns\n",
    "import matplotlib.pyplot as plt\n",
    "\n",
    "sns.countplot(data=df, x='cluster', palette='rocket')\n",
    "plt.show()"
   ]
  },
  {
   "cell_type": "code",
   "execution_count": 65,
   "id": "f421c946",
   "metadata": {},
   "outputs": [
    {
     "data": {
      "image/png": "[encoded data removed]",
      "text/plain": [
       "<Figure size 640x480 with 1 Axes>"
      ]
     },
     "metadata": {},
     "output_type": "display_data"
    }
   ],
   "source": [
    "sns.countplot(data=df, x='cluster2', palette='rocket')\n",
    "plt.show()"
   ]
  },
  {
   "cell_type": "code",
   "execution_count": null,
   "id": "f92478cd",
   "metadata": {},
   "outputs": [],
   "source": [
    "#Model difference between kmeans and kmeans with PCA\n",
    "#Identify the dimensions remained in PCA\n"
   ]
  },
  {
   "cell_type": "code",
   "execution_count": null,
   "id": "04955f2d",
   "metadata": {},
   "outputs": [],
   "source": []
  }
 ],
 "metadata": {
  "kernelspec": {
   "display_name": "Python 3 (ipykernel)",
   "language": "python",
   "name": "python3"
  },
  "language_info": {
   "codemirror_mode": {
    "name": "ipython",
    "version": 3
   },
   "file_extension": ".py",
   "mimetype": "text/x-python",
   "name": "python",
   "nbconvert_exporter": "python",
   "pygments_lexer": "ipython3",
   "version": "3.9.13"
  }
 },
 "nbformat": 4,
 "nbformat_minor": 5
}
