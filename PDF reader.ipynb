{
 "cells": [
  {
   "cell_type": "markdown",
   "id": "d2cddad8",
   "metadata": {},
   "source": [
    "This code uses PyPDF2 library to read values in PDF"
   ]
  },
  {
   "cell_type": "code",
   "execution_count": 1,
   "id": "1b7e8b7d",
   "metadata": {},
   "outputs": [],
   "source": [
    "#pip install PyPDF2"
   ]
  },
  {
   "cell_type": "code",
   "execution_count": 2,
   "id": "a4d832b5",
   "metadata": {},
   "outputs": [],
   "source": [
    "import PyPDF2"
   ]
  },
  {
   "cell_type": "code",
   "execution_count": 3,
   "id": "4d9cc467",
   "metadata": {},
   "outputs": [],
   "source": [
    "pdfobject = open(r'C:\\Users\\Shai\\OneDrive\\Documents\\SP503 Capstone Abo-abo.pdf', 'rb')\n",
    "pdfreader = PyPDF2.PdfReader(pdfobject)"
   ]
  },
  {
   "cell_type": "code",
   "execution_count": 4,
   "id": "5ae7ffdc",
   "metadata": {},
   "outputs": [
    {
     "data": {
      "text/plain": [
       "9"
      ]
     },
     "execution_count": 4,
     "metadata": {},
     "output_type": "execute_result"
    }
   ],
   "source": [
    "len(pdfreader.pages)"
   ]
  },
  {
   "cell_type": "code",
   "execution_count": 5,
   "id": "56e6f5d7",
   "metadata": {},
   "outputs": [
    {
     "data": {
      "text/plain": [
       "{'/Title': 'PowerPoint Presentation',\n",
       " '/Author': 'Princess Shaira Abo-abo',\n",
       " '/CreationDate': \"D:20230908000058-05'00'\",\n",
       " '/ModDate': \"D:20230908000058-05'00'\",\n",
       " '/Producer': 'Microsoft® PowerPoint® 2021',\n",
       " '/Creator': 'Microsoft® PowerPoint® 2021'}"
      ]
     },
     "execution_count": 5,
     "metadata": {},
     "output_type": "execute_result"
    }
   ],
   "source": [
    "pdfreader.metadata"
   ]
  },
  {
   "cell_type": "code",
   "execution_count": 6,
   "id": "d2c8a101",
   "metadata": {},
   "outputs": [
    {
     "name": "stdout",
     "output_type": "stream",
     "text": [
      "Initial Data Insights\n",
      "September 08, 2023\n",
      "AAA Analytics Consulting\n",
      "\n"
     ]
    }
   ],
   "source": [
    "page1 = pdfreader.pages[0]\n",
    "print(page1.extract_text())"
   ]
  },
  {
   "cell_type": "code",
   "execution_count": 7,
   "id": "5832a6a8",
   "metadata": {},
   "outputs": [
    {
     "name": "stdout",
     "output_type": "stream",
     "text": [
      "Initial Data Insights\n",
      "September 08, 2023\n",
      "AAA Analytics Consulting\n",
      "\n",
      "Initial Data Insights\n",
      "September 08, 2023\n",
      "AAA Analytics Consulting\n",
      "\n"
     ]
    }
   ],
   "source": [
    "# extract only text oriented up\n",
    "print(page1.extract_text(0))\n",
    "\n",
    "# extract text oriented up and turned left\n",
    "print(page1.extract_text((0, 90)))"
   ]
  },
  {
   "cell_type": "code",
   "execution_count": 8,
   "id": "2fbcbcc3",
   "metadata": {},
   "outputs": [],
   "source": [
    "from PyPDF2 import PdfWriter\n",
    "\n",
    "writer = PdfWriter()\n",
    "\n",
    "# Add all pages to the writer\n",
    "for page in pdfreader.pages:\n",
    "    writer.add_page(page)\n",
    "\n",
    "# Add the metadata\n",
    "writer.add_metadata(\n",
    "    {\n",
    "        \"/Author\": \"Martin\",\n",
    "        \"/Producer\": \"Libre Writer\",\n",
    "    }\n",
    ")\n",
    "\n",
    "# Save the new PDF to a file\n",
    "with open(\"meta-pdf.pdf\", \"wb\") as f:\n",
    "    writer.write(f)"
   ]
  },
  {
   "cell_type": "code",
   "execution_count": null,
   "id": "1c612aac",
   "metadata": {},
   "outputs": [],
   "source": []
  }
 ],
 "metadata": {
  "kernelspec": {
   "display_name": "Python 3 (ipykernel)",
   "language": "python",
   "name": "python3"
  },
  "language_info": {
   "codemirror_mode": {
    "name": "ipython",
    "version": 3
   },
   "file_extension": ".py",
   "mimetype": "text/x-python",
   "name": "python",
   "nbconvert_exporter": "python",
   "pygments_lexer": "ipython3",
   "version": "3.9.13"
  }
 },
 "nbformat": 4,
 "nbformat_minor": 5
}
